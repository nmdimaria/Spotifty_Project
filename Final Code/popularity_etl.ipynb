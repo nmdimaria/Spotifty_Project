{
 "cells": [
  {
   "cell_type": "code",
   "execution_count": 13,
   "metadata": {},
   "outputs": [],
   "source": [
    "#Import dependencies\n",
    "import pandas as pd"
   ]
  },
  {
   "cell_type": "code",
   "execution_count": 14,
   "metadata": {},
   "outputs": [
    {
     "output_type": "execute_result",
     "data": {
      "text/plain": "   genre        artist_name                        track_name  \\\n0  Movie     Henri Salvador       C'est beau de faire un Show   \n1  Movie  Martin & les fées  Perdu d'avance (par Gad Elmaleh)   \n2  Movie    Joseph Williams    Don't Let Me Be Lonely Tonight   \n3  Movie     Henri Salvador    Dis-moi Monsieur Gordon Cooper   \n4  Movie       Fabien Nataf                         Ouverture   \n\n                 track_id  popularity  acousticness  danceability  \\\n0  0BRjO6ga9RKCKjfDqeFgWV           0         0.611         0.389   \n1  0BjC1NfoEOOusryehmNudP           1         0.246         0.590   \n2  0CoSDzoNIKCRs124s9uTVy           3         0.952         0.663   \n3  0Gc6TVm52BwZD07Ki6tIvf           0         0.703         0.240   \n4  0IuslXpMROHdEPvSl1fTQK           4         0.950         0.331   \n\n   duration_ms  energy  instrumentalness key  liveness  loudness   mode  \\\n0        99373   0.910             0.000  C#    0.3460    -1.828  Major   \n1       137373   0.737             0.000  F#    0.1510    -5.559  Minor   \n2       170267   0.131             0.000   C    0.1030   -13.879  Minor   \n3       152427   0.326             0.000  C#    0.0985   -12.178  Major   \n4        82625   0.225             0.123   F    0.2020   -21.150  Major   \n\n   speechiness    tempo time_signature  valence release_date  \n0       0.0525  166.969            4/4    0.814   2009-04-06  \n1       0.0868  174.003            4/4    0.816   2015-10-27  \n2       0.0362   99.488            5/4    0.368   2008-02-05  \n3       0.0395  171.758            4/4    0.227         1998  \n4       0.0456  140.576            4/4    0.390   2017-01-06  ",
      "text/html": "<div>\n<style scoped>\n    .dataframe tbody tr th:only-of-type {\n        vertical-align: middle;\n    }\n\n    .dataframe tbody tr th {\n        vertical-align: top;\n    }\n\n    .dataframe thead th {\n        text-align: right;\n    }\n</style>\n<table border=\"1\" class=\"dataframe\">\n  <thead>\n    <tr style=\"text-align: right;\">\n      <th></th>\n      <th>genre</th>\n      <th>artist_name</th>\n      <th>track_name</th>\n      <th>track_id</th>\n      <th>popularity</th>\n      <th>acousticness</th>\n      <th>danceability</th>\n      <th>duration_ms</th>\n      <th>energy</th>\n      <th>instrumentalness</th>\n      <th>key</th>\n      <th>liveness</th>\n      <th>loudness</th>\n      <th>mode</th>\n      <th>speechiness</th>\n      <th>tempo</th>\n      <th>time_signature</th>\n      <th>valence</th>\n      <th>release_date</th>\n    </tr>\n  </thead>\n  <tbody>\n    <tr>\n      <th>0</th>\n      <td>Movie</td>\n      <td>Henri Salvador</td>\n      <td>C'est beau de faire un Show</td>\n      <td>0BRjO6ga9RKCKjfDqeFgWV</td>\n      <td>0</td>\n      <td>0.611</td>\n      <td>0.389</td>\n      <td>99373</td>\n      <td>0.910</td>\n      <td>0.000</td>\n      <td>C#</td>\n      <td>0.3460</td>\n      <td>-1.828</td>\n      <td>Major</td>\n      <td>0.0525</td>\n      <td>166.969</td>\n      <td>4/4</td>\n      <td>0.814</td>\n      <td>2009-04-06</td>\n    </tr>\n    <tr>\n      <th>1</th>\n      <td>Movie</td>\n      <td>Martin &amp; les fées</td>\n      <td>Perdu d'avance (par Gad Elmaleh)</td>\n      <td>0BjC1NfoEOOusryehmNudP</td>\n      <td>1</td>\n      <td>0.246</td>\n      <td>0.590</td>\n      <td>137373</td>\n      <td>0.737</td>\n      <td>0.000</td>\n      <td>F#</td>\n      <td>0.1510</td>\n      <td>-5.559</td>\n      <td>Minor</td>\n      <td>0.0868</td>\n      <td>174.003</td>\n      <td>4/4</td>\n      <td>0.816</td>\n      <td>2015-10-27</td>\n    </tr>\n    <tr>\n      <th>2</th>\n      <td>Movie</td>\n      <td>Joseph Williams</td>\n      <td>Don't Let Me Be Lonely Tonight</td>\n      <td>0CoSDzoNIKCRs124s9uTVy</td>\n      <td>3</td>\n      <td>0.952</td>\n      <td>0.663</td>\n      <td>170267</td>\n      <td>0.131</td>\n      <td>0.000</td>\n      <td>C</td>\n      <td>0.1030</td>\n      <td>-13.879</td>\n      <td>Minor</td>\n      <td>0.0362</td>\n      <td>99.488</td>\n      <td>5/4</td>\n      <td>0.368</td>\n      <td>2008-02-05</td>\n    </tr>\n    <tr>\n      <th>3</th>\n      <td>Movie</td>\n      <td>Henri Salvador</td>\n      <td>Dis-moi Monsieur Gordon Cooper</td>\n      <td>0Gc6TVm52BwZD07Ki6tIvf</td>\n      <td>0</td>\n      <td>0.703</td>\n      <td>0.240</td>\n      <td>152427</td>\n      <td>0.326</td>\n      <td>0.000</td>\n      <td>C#</td>\n      <td>0.0985</td>\n      <td>-12.178</td>\n      <td>Major</td>\n      <td>0.0395</td>\n      <td>171.758</td>\n      <td>4/4</td>\n      <td>0.227</td>\n      <td>1998</td>\n    </tr>\n    <tr>\n      <th>4</th>\n      <td>Movie</td>\n      <td>Fabien Nataf</td>\n      <td>Ouverture</td>\n      <td>0IuslXpMROHdEPvSl1fTQK</td>\n      <td>4</td>\n      <td>0.950</td>\n      <td>0.331</td>\n      <td>82625</td>\n      <td>0.225</td>\n      <td>0.123</td>\n      <td>F</td>\n      <td>0.2020</td>\n      <td>-21.150</td>\n      <td>Major</td>\n      <td>0.0456</td>\n      <td>140.576</td>\n      <td>4/4</td>\n      <td>0.390</td>\n      <td>2017-01-06</td>\n    </tr>\n  </tbody>\n</table>\n</div>"
     },
     "metadata": {},
     "execution_count": 14
    }
   ],
   "source": [
    "#Importing data\n",
    "spotify_data = pd.read_csv('https://spotifydataproject.s3.us-east-2.amazonaws.com/Dataset_1.csv')\n",
    "spotify_data2 = pd.read_csv('https://spotifydataproject.s3.us-east-2.amazonaws.com/Dataset_2.csv')\n",
    "spotify_data_df = pd.DataFrame(spotify_data)\n",
    "spotify_data2_df = pd.DataFrame(spotify_data2)\n",
    "\n",
    "\n",
    "spotify_data_df.head()"
   ]
  },
  {
   "cell_type": "code",
   "execution_count": 15,
   "metadata": {},
   "outputs": [
    {
     "output_type": "execute_result",
     "data": {
      "text/plain": "genre                object\nartist_name          object\ntrack_name           object\ntrack_id             object\npopularity            int64\nacousticness        float64\ndanceability        float64\nduration_ms           int64\nenergy              float64\ninstrumentalness    float64\nkey                  object\nliveness            float64\nloudness            float64\nmode                 object\nspeechiness         float64\ntempo               float64\ntime_signature       object\nvalence             float64\nrelease_date         object\ndtype: object"
     },
     "metadata": {},
     "execution_count": 15
    }
   ],
   "source": [
    "#Check dtypes\n",
    "spotify_data_df.dtypes"
   ]
  },
  {
   "cell_type": "code",
   "execution_count": 16,
   "metadata": {},
   "outputs": [
    {
     "output_type": "execute_result",
     "data": {
      "text/plain": "genre                       object\nartist_name                 object\ntrack_name                  object\ntrack_id                    object\npopularity                   int64\nacousticness               float64\ndanceability               float64\nduration_ms                  int64\nenergy                     float64\ninstrumentalness           float64\nkey                         object\nliveness                   float64\nloudness                   float64\nmode                        object\nspeechiness                float64\ntempo                      float64\ntime_signature              object\nvalence                    float64\nrelease_date        datetime64[ns]\ndtype: object"
     },
     "metadata": {},
     "execution_count": 16
    }
   ],
   "source": [
    "#Converting to datetime\n",
    "spotify_data_df['release_date'] = pd.to_datetime(spotify_data_df['release_date'], errors='coerce', format='%Y-%m-%d')\n",
    "spotify_data_df.dtypes"
   ]
  },
  {
   "cell_type": "code",
   "execution_count": 17,
   "metadata": {},
   "outputs": [],
   "source": [
    "#Creating year column\n",
    "spotify_data_df['year'] = pd.DatetimeIndex(spotify_data_df['release_date']).year.fillna(0.0).astype(int)"
   ]
  },
  {
   "cell_type": "code",
   "execution_count": 18,
   "metadata": {},
   "outputs": [
    {
     "output_type": "execute_result",
     "data": {
      "text/plain": "131805"
     },
     "metadata": {},
     "execution_count": 18
    }
   ],
   "source": [
    "#Filtering the dataset\n",
    "filtered_data_df = spotify_data_df[spotify_data_df['year'] >= 2010]\n",
    "filtered_data_df = filtered_data_df[filtered_data_df['genre'] != 'Movie']\n",
    "filtered_data_df = filtered_data_df[filtered_data_df['genre'] != 'Classical']\n",
    "filtered_data_df = filtered_data_df[filtered_data_df['genre'] != 'Opera']\n",
    "filtered_data_df = filtered_data_df[filtered_data_df['genre'] != 'Anime']\n",
    "len(filtered_data_df)"
   ]
  },
  {
   "cell_type": "code",
   "execution_count": 19,
   "metadata": {},
   "outputs": [],
   "source": [
    "#Creating binary popularity measure\n",
    "bi_popularity = []\n",
    "\n",
    "for row in filtered_data_df['popularity']:\n",
    "    if row >= 60:\n",
    "        bi_popularity.append(1)\n",
    "    else:\n",
    "        bi_popularity.append(0)"
   ]
  },
  {
   "cell_type": "code",
   "execution_count": 20,
   "metadata": {},
   "outputs": [
    {
     "output_type": "execute_result",
     "data": {
      "text/plain": "                 track_id  bi_popularity\n0  6KFaHC9G178beAp7P0Vi5S              1\n1  6muW8cSjJ3rusKJ0vH5olw              1\n2  7yHqOZfsXYlicyoMt62yC6              1\n3  4XzgjxGKqULifVf7mnDIQK              1\n4  7KdRu0h7PQ0Ecfa37rUBzW              1",
      "text/html": "<div>\n<style scoped>\n    .dataframe tbody tr th:only-of-type {\n        vertical-align: middle;\n    }\n\n    .dataframe tbody tr th {\n        vertical-align: top;\n    }\n\n    .dataframe thead th {\n        text-align: right;\n    }\n</style>\n<table border=\"1\" class=\"dataframe\">\n  <thead>\n    <tr style=\"text-align: right;\">\n      <th></th>\n      <th>track_id</th>\n      <th>bi_popularity</th>\n    </tr>\n  </thead>\n  <tbody>\n    <tr>\n      <th>0</th>\n      <td>6KFaHC9G178beAp7P0Vi5S</td>\n      <td>1</td>\n    </tr>\n    <tr>\n      <th>1</th>\n      <td>6muW8cSjJ3rusKJ0vH5olw</td>\n      <td>1</td>\n    </tr>\n    <tr>\n      <th>2</th>\n      <td>7yHqOZfsXYlicyoMt62yC6</td>\n      <td>1</td>\n    </tr>\n    <tr>\n      <th>3</th>\n      <td>4XzgjxGKqULifVf7mnDIQK</td>\n      <td>1</td>\n    </tr>\n    <tr>\n      <th>4</th>\n      <td>7KdRu0h7PQ0Ecfa37rUBzW</td>\n      <td>1</td>\n    </tr>\n  </tbody>\n</table>\n</div>"
     },
     "metadata": {},
     "execution_count": 20
    }
   ],
   "source": [
    "#Creating popularity dataframe\n",
    "popularity_df = pd.DataFrame(list(zip(filtered_data_df['track_id'], bi_popularity)), columns=['track_id', 'bi_popularity'])\n",
    "popularity_df.head()"
   ]
  },
  {
   "cell_type": "code",
   "execution_count": 21,
   "metadata": {},
   "outputs": [
    {
     "output_type": "execute_result",
     "data": {
      "text/plain": "131805"
     },
     "metadata": {},
     "execution_count": 21
    }
   ],
   "source": [
    "#Adding bi popularity\n",
    "filtered_data_df['bi_popularity'] = bi_popularity\n",
    "len(filtered_data_df)"
   ]
  },
  {
   "cell_type": "code",
   "execution_count": 22,
   "metadata": {},
   "outputs": [
    {
     "output_type": "execute_result",
     "data": {
      "text/plain": "94180"
     },
     "metadata": {},
     "execution_count": 22
    }
   ],
   "source": [
    "#Dropping duplicates\n",
    "filtered_data_df = filtered_data_df.drop_duplicates(subset='track_id')\n",
    "len(filtered_data_df)"
   ]
  },
  {
   "cell_type": "code",
   "execution_count": 23,
   "metadata": {},
   "outputs": [],
   "source": [
    "#Exporting data\n",
    "filtered_data_df.to_csv('../../Data/filtered_data.csv', index=False)"
   ]
  },
  {
   "cell_type": "code",
   "execution_count": 24,
   "metadata": {},
   "outputs": [
    {
     "output_type": "execute_result",
     "data": {
      "text/plain": "genre                       object\nartist_name                 object\ntrack_name                  object\ntrack_id                    object\npopularity                   int64\nacousticness               float64\ndanceability               float64\nduration_ms                  int64\nenergy                     float64\ninstrumentalness           float64\nkey                         object\nliveness                   float64\nloudness                   float64\nmode                        object\nspeechiness                float64\ntempo                      float64\ntime_signature              object\nvalence                    float64\nrelease_date        datetime64[ns]\nyear                         int64\nbi_popularity                int64\ndtype: object"
     },
     "metadata": {},
     "execution_count": 24
    }
   ],
   "source": [
    "filtered_data_df.dtypes"
   ]
  },
  {
   "cell_type": "code",
   "execution_count": 38,
   "metadata": {},
   "outputs": [
    {
     "output_type": "execute_result",
     "data": {
      "text/plain": "174389"
     },
     "metadata": {},
     "execution_count": 38
    }
   ],
   "source": [
    "len(spotify_data2_df)"
   ]
  },
  {
   "cell_type": "code",
   "execution_count": 39,
   "metadata": {},
   "outputs": [
    {
     "output_type": "execute_result",
     "data": {
      "text/plain": "172230"
     },
     "metadata": {},
     "execution_count": 39
    }
   ],
   "source": [
    "#Filtering data 2\n",
    "filtered_data2_df = spotify_data2_df[spotify_data_df['year'] >= 2010]\n",
    "filtered_data2_df = spotify_data2_df.drop_duplicates()\n",
    "filtered_data2_df = spotify_data2_df.drop_duplicates(subset = 'id')\n",
    "filtered_data2_df = filtered_data2_df.drop(columns= ['artists', 'name'])\n",
    "len(filtered_data2_df)"
   ]
  },
  {
   "cell_type": "code",
   "execution_count": 35,
   "metadata": {},
   "outputs": [],
   "source": [
    "#Creating binary popularity measure\n",
    "bi_popularity2 = []\n",
    "\n",
    "for row in filtered_data2_df['popularity']:\n",
    "    if row >= 60:\n",
    "        bi_popularity2.append(1)\n",
    "    else:\n",
    "        bi_popularity2.append(0)"
   ]
  },
  {
   "cell_type": "code",
   "execution_count": 36,
   "metadata": {},
   "outputs": [],
   "source": [
    "#Add bi popularity\n",
    "filtered_data2_df['bi_popularity'] = bi_popularity2"
   ]
  },
  {
   "cell_type": "code",
   "execution_count": 37,
   "metadata": {},
   "outputs": [],
   "source": [
    "#Exporting data 2\n",
    "filtered_data2_df.to_csv('../../Data/filtered_data2.csv', index=False)"
   ]
  },
  {
   "cell_type": "code",
   "execution_count": null,
   "metadata": {},
   "outputs": [],
   "source": []
  }
 ],
 "metadata": {
  "language_info": {
   "codemirror_mode": {
    "name": "ipython",
    "version": 3
   },
   "file_extension": ".py",
   "mimetype": "text/x-python",
   "name": "python",
   "nbconvert_exporter": "python",
   "pygments_lexer": "ipython3",
   "version": 3
  },
  "orig_nbformat": 2,
  "kernelspec": {
   "name": "python_defaultSpec_1614623334716",
   "display_name": "Python 3.7.6 64-bit ('base': conda)"
  }
 },
 "nbformat": 4,
 "nbformat_minor": 2
}