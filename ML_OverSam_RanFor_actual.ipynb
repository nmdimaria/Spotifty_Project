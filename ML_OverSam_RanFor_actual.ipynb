{
  "nbformat": 4,
  "nbformat_minor": 0,
  "metadata": {
    "colab": {
      "name": "ML_OverSam_RanFor_actual.ipynb",
      "provenance": [],
      "collapsed_sections": [],
      "authorship_tag": "ABX9TyMKzkjorTQ6bOk/bdK5EBJK",
      "include_colab_link": true
    },
    "kernelspec": {
      "name": "python3",
      "display_name": "Python 3"
    }
  },
  "cells": [
    {
      "cell_type": "markdown",
      "metadata": {
        "id": "view-in-github",
        "colab_type": "text"
      },
      "source": [
        "<a href=\"https://colab.research.google.com/github/nmdimaria/Spotify_Project/blob/will_grace/ML_OverSam_RanFor_actual.ipynb\" target=\"_parent\"><img src=\"https://colab.research.google.com/assets/colab-badge.svg\" alt=\"Open In Colab\"/></a>"
      ]
    },
    {
      "cell_type": "code",
      "metadata": {
        "id": "JeFKvSV2gGYd",
        "colab": {
          "base_uri": "https://localhost:8080/",
          "height": 292
        },
        "outputId": "c99dda34-16d4-495d-b02c-d8802d114d57"
      },
      "source": [
        "import numpy as np\n",
        "import pandas as pd\n",
        "from sklearn.preprocessing import StandardScaler\n",
        "\n",
        "file_to_read = pd.read_csv('filtered_data_70.csv')\n",
        "df = pd.DataFrame(file_to_read)\n",
        "df.head()"
      ],
      "execution_count": null,
      "outputs": [
        {
          "output_type": "execute_result",
          "data": {
            "text/html": [
              "<div>\n",
              "<style scoped>\n",
              "    .dataframe tbody tr th:only-of-type {\n",
              "        vertical-align: middle;\n",
              "    }\n",
              "\n",
              "    .dataframe tbody tr th {\n",
              "        vertical-align: top;\n",
              "    }\n",
              "\n",
              "    .dataframe thead th {\n",
              "        text-align: right;\n",
              "    }\n",
              "</style>\n",
              "<table border=\"1\" class=\"dataframe\">\n",
              "  <thead>\n",
              "    <tr style=\"text-align: right;\">\n",
              "      <th></th>\n",
              "      <th>genre</th>\n",
              "      <th>artist_name</th>\n",
              "      <th>track_name</th>\n",
              "      <th>track_id</th>\n",
              "      <th>popularity</th>\n",
              "      <th>acousticness</th>\n",
              "      <th>danceability</th>\n",
              "      <th>duration_ms</th>\n",
              "      <th>energy</th>\n",
              "      <th>instrumentalness</th>\n",
              "      <th>key</th>\n",
              "      <th>liveness</th>\n",
              "      <th>loudness</th>\n",
              "      <th>mode</th>\n",
              "      <th>speechiness</th>\n",
              "      <th>tempo</th>\n",
              "      <th>time_signature</th>\n",
              "      <th>valence</th>\n",
              "      <th>release_date</th>\n",
              "      <th>year</th>\n",
              "      <th>bi_popularity</th>\n",
              "    </tr>\n",
              "  </thead>\n",
              "  <tbody>\n",
              "    <tr>\n",
              "      <th>0</th>\n",
              "      <td>R&amp;B</td>\n",
              "      <td>Rihanna</td>\n",
              "      <td>Desperado</td>\n",
              "      <td>6KFaHC9G178beAp7P0Vi5S</td>\n",
              "      <td>63</td>\n",
              "      <td>0.3230</td>\n",
              "      <td>0.685</td>\n",
              "      <td>186467</td>\n",
              "      <td>0.610</td>\n",
              "      <td>0.000000</td>\n",
              "      <td>C</td>\n",
              "      <td>0.1020</td>\n",
              "      <td>-5.221</td>\n",
              "      <td>Minor</td>\n",
              "      <td>0.0439</td>\n",
              "      <td>94.384</td>\n",
              "      <td>3/4</td>\n",
              "      <td>0.3230</td>\n",
              "      <td>2016-01-28</td>\n",
              "      <td>2016</td>\n",
              "      <td>0</td>\n",
              "    </tr>\n",
              "    <tr>\n",
              "      <th>1</th>\n",
              "      <td>R&amp;B</td>\n",
              "      <td>Yung Bleu</td>\n",
              "      <td>Ice On My Baby (feat. Kevin Gates) - Remix</td>\n",
              "      <td>6muW8cSjJ3rusKJ0vH5olw</td>\n",
              "      <td>62</td>\n",
              "      <td>0.0675</td>\n",
              "      <td>0.762</td>\n",
              "      <td>199520</td>\n",
              "      <td>0.520</td>\n",
              "      <td>0.000004</td>\n",
              "      <td>F</td>\n",
              "      <td>0.1140</td>\n",
              "      <td>-5.237</td>\n",
              "      <td>Minor</td>\n",
              "      <td>0.0959</td>\n",
              "      <td>75.047</td>\n",
              "      <td>4/4</td>\n",
              "      <td>0.0862</td>\n",
              "      <td>2018-09-21</td>\n",
              "      <td>2018</td>\n",
              "      <td>0</td>\n",
              "    </tr>\n",
              "    <tr>\n",
              "      <th>2</th>\n",
              "      <td>R&amp;B</td>\n",
              "      <td>Surfaces</td>\n",
              "      <td>Heaven Falls / Fall on Me</td>\n",
              "      <td>7yHqOZfsXYlicyoMt62yC6</td>\n",
              "      <td>61</td>\n",
              "      <td>0.3600</td>\n",
              "      <td>0.563</td>\n",
              "      <td>240597</td>\n",
              "      <td>0.366</td>\n",
              "      <td>0.002430</td>\n",
              "      <td>B</td>\n",
              "      <td>0.0955</td>\n",
              "      <td>-6.896</td>\n",
              "      <td>Minor</td>\n",
              "      <td>0.1210</td>\n",
              "      <td>85.352</td>\n",
              "      <td>4/4</td>\n",
              "      <td>0.7680</td>\n",
              "      <td>2018-08-24</td>\n",
              "      <td>2018</td>\n",
              "      <td>0</td>\n",
              "    </tr>\n",
              "    <tr>\n",
              "      <th>3</th>\n",
              "      <td>R&amp;B</td>\n",
              "      <td>Olivia O'Brien</td>\n",
              "      <td>Love Myself</td>\n",
              "      <td>4XzgjxGKqULifVf7mnDIQK</td>\n",
              "      <td>68</td>\n",
              "      <td>0.5960</td>\n",
              "      <td>0.653</td>\n",
              "      <td>213947</td>\n",
              "      <td>0.621</td>\n",
              "      <td>0.000000</td>\n",
              "      <td>B</td>\n",
              "      <td>0.0811</td>\n",
              "      <td>-5.721</td>\n",
              "      <td>Minor</td>\n",
              "      <td>0.0409</td>\n",
              "      <td>100.006</td>\n",
              "      <td>4/4</td>\n",
              "      <td>0.4660</td>\n",
              "      <td>2019-02-01</td>\n",
              "      <td>2019</td>\n",
              "      <td>0</td>\n",
              "    </tr>\n",
              "    <tr>\n",
              "      <th>4</th>\n",
              "      <td>R&amp;B</td>\n",
              "      <td>ELHAE</td>\n",
              "      <td>Needs</td>\n",
              "      <td>7KdRu0h7PQ0Ecfa37rUBzW</td>\n",
              "      <td>61</td>\n",
              "      <td>0.6610</td>\n",
              "      <td>0.510</td>\n",
              "      <td>205640</td>\n",
              "      <td>0.331</td>\n",
              "      <td>0.000000</td>\n",
              "      <td>B</td>\n",
              "      <td>0.1230</td>\n",
              "      <td>-13.073</td>\n",
              "      <td>Minor</td>\n",
              "      <td>0.0895</td>\n",
              "      <td>124.657</td>\n",
              "      <td>4/4</td>\n",
              "      <td>0.2250</td>\n",
              "      <td>2016-03-11</td>\n",
              "      <td>2016</td>\n",
              "      <td>0</td>\n",
              "    </tr>\n",
              "  </tbody>\n",
              "</table>\n",
              "</div>"
            ],
            "text/plain": [
              "  genre     artist_name  ...  year bi_popularity\n",
              "0   R&B         Rihanna  ...  2016             0\n",
              "1   R&B       Yung Bleu  ...  2018             0\n",
              "2   R&B        Surfaces  ...  2018             0\n",
              "3   R&B  Olivia O'Brien  ...  2019             0\n",
              "4   R&B           ELHAE  ...  2016             0\n",
              "\n",
              "[5 rows x 21 columns]"
            ]
          },
          "metadata": {
            "tags": []
          },
          "execution_count": 1
        }
      ]
    },
    {
      "cell_type": "code",
      "metadata": {
        "id": "k269LGaUFB1Y"
      },
      "source": [
        "y=df[\"bi_popularity\"]\n",
        "X=df.drop(columns=[\"popularity\",\"track_id\", \"year\",\"bi_popularity\", \"genre\",\"artist_name\", \"track_name\", \"release_date\"])"
      ],
      "execution_count": null,
      "outputs": []
    },
    {
      "cell_type": "code",
      "metadata": {
        "colab": {
          "base_uri": "https://localhost:8080/",
          "height": 224
        },
        "id": "HKyfFYAhHF0P",
        "outputId": "b9910fdf-b9aa-442c-fd30-d1cb3697a12d"
      },
      "source": [
        "# Get Dummies for mode and key\n",
        "X = pd.get_dummies(X, columns=[\"mode\", \"key\", \"time_signature\"])\n",
        "X.head()\n"
      ],
      "execution_count": null,
      "outputs": [
        {
          "output_type": "execute_result",
          "data": {
            "text/html": [
              "<div>\n",
              "<style scoped>\n",
              "    .dataframe tbody tr th:only-of-type {\n",
              "        vertical-align: middle;\n",
              "    }\n",
              "\n",
              "    .dataframe tbody tr th {\n",
              "        vertical-align: top;\n",
              "    }\n",
              "\n",
              "    .dataframe thead th {\n",
              "        text-align: right;\n",
              "    }\n",
              "</style>\n",
              "<table border=\"1\" class=\"dataframe\">\n",
              "  <thead>\n",
              "    <tr style=\"text-align: right;\">\n",
              "      <th></th>\n",
              "      <th>acousticness</th>\n",
              "      <th>danceability</th>\n",
              "      <th>duration_ms</th>\n",
              "      <th>energy</th>\n",
              "      <th>instrumentalness</th>\n",
              "      <th>liveness</th>\n",
              "      <th>loudness</th>\n",
              "      <th>speechiness</th>\n",
              "      <th>tempo</th>\n",
              "      <th>valence</th>\n",
              "      <th>mode_Major</th>\n",
              "      <th>mode_Minor</th>\n",
              "      <th>key_A</th>\n",
              "      <th>key_A#</th>\n",
              "      <th>key_B</th>\n",
              "      <th>key_C</th>\n",
              "      <th>key_C#</th>\n",
              "      <th>key_D</th>\n",
              "      <th>key_D#</th>\n",
              "      <th>key_E</th>\n",
              "      <th>key_F</th>\n",
              "      <th>key_F#</th>\n",
              "      <th>key_G</th>\n",
              "      <th>key_G#</th>\n",
              "      <th>time_signature_0/4</th>\n",
              "      <th>time_signature_1/4</th>\n",
              "      <th>time_signature_3/4</th>\n",
              "      <th>time_signature_4/4</th>\n",
              "      <th>time_signature_5/4</th>\n",
              "    </tr>\n",
              "  </thead>\n",
              "  <tbody>\n",
              "    <tr>\n",
              "      <th>0</th>\n",
              "      <td>0.3230</td>\n",
              "      <td>0.685</td>\n",
              "      <td>186467</td>\n",
              "      <td>0.610</td>\n",
              "      <td>0.000000</td>\n",
              "      <td>0.1020</td>\n",
              "      <td>-5.221</td>\n",
              "      <td>0.0439</td>\n",
              "      <td>94.384</td>\n",
              "      <td>0.3230</td>\n",
              "      <td>0</td>\n",
              "      <td>1</td>\n",
              "      <td>0</td>\n",
              "      <td>0</td>\n",
              "      <td>0</td>\n",
              "      <td>1</td>\n",
              "      <td>0</td>\n",
              "      <td>0</td>\n",
              "      <td>0</td>\n",
              "      <td>0</td>\n",
              "      <td>0</td>\n",
              "      <td>0</td>\n",
              "      <td>0</td>\n",
              "      <td>0</td>\n",
              "      <td>0</td>\n",
              "      <td>0</td>\n",
              "      <td>1</td>\n",
              "      <td>0</td>\n",
              "      <td>0</td>\n",
              "    </tr>\n",
              "    <tr>\n",
              "      <th>1</th>\n",
              "      <td>0.0675</td>\n",
              "      <td>0.762</td>\n",
              "      <td>199520</td>\n",
              "      <td>0.520</td>\n",
              "      <td>0.000004</td>\n",
              "      <td>0.1140</td>\n",
              "      <td>-5.237</td>\n",
              "      <td>0.0959</td>\n",
              "      <td>75.047</td>\n",
              "      <td>0.0862</td>\n",
              "      <td>0</td>\n",
              "      <td>1</td>\n",
              "      <td>0</td>\n",
              "      <td>0</td>\n",
              "      <td>0</td>\n",
              "      <td>0</td>\n",
              "      <td>0</td>\n",
              "      <td>0</td>\n",
              "      <td>0</td>\n",
              "      <td>0</td>\n",
              "      <td>1</td>\n",
              "      <td>0</td>\n",
              "      <td>0</td>\n",
              "      <td>0</td>\n",
              "      <td>0</td>\n",
              "      <td>0</td>\n",
              "      <td>0</td>\n",
              "      <td>1</td>\n",
              "      <td>0</td>\n",
              "    </tr>\n",
              "    <tr>\n",
              "      <th>2</th>\n",
              "      <td>0.3600</td>\n",
              "      <td>0.563</td>\n",
              "      <td>240597</td>\n",
              "      <td>0.366</td>\n",
              "      <td>0.002430</td>\n",
              "      <td>0.0955</td>\n",
              "      <td>-6.896</td>\n",
              "      <td>0.1210</td>\n",
              "      <td>85.352</td>\n",
              "      <td>0.7680</td>\n",
              "      <td>0</td>\n",
              "      <td>1</td>\n",
              "      <td>0</td>\n",
              "      <td>0</td>\n",
              "      <td>1</td>\n",
              "      <td>0</td>\n",
              "      <td>0</td>\n",
              "      <td>0</td>\n",
              "      <td>0</td>\n",
              "      <td>0</td>\n",
              "      <td>0</td>\n",
              "      <td>0</td>\n",
              "      <td>0</td>\n",
              "      <td>0</td>\n",
              "      <td>0</td>\n",
              "      <td>0</td>\n",
              "      <td>0</td>\n",
              "      <td>1</td>\n",
              "      <td>0</td>\n",
              "    </tr>\n",
              "    <tr>\n",
              "      <th>3</th>\n",
              "      <td>0.5960</td>\n",
              "      <td>0.653</td>\n",
              "      <td>213947</td>\n",
              "      <td>0.621</td>\n",
              "      <td>0.000000</td>\n",
              "      <td>0.0811</td>\n",
              "      <td>-5.721</td>\n",
              "      <td>0.0409</td>\n",
              "      <td>100.006</td>\n",
              "      <td>0.4660</td>\n",
              "      <td>0</td>\n",
              "      <td>1</td>\n",
              "      <td>0</td>\n",
              "      <td>0</td>\n",
              "      <td>1</td>\n",
              "      <td>0</td>\n",
              "      <td>0</td>\n",
              "      <td>0</td>\n",
              "      <td>0</td>\n",
              "      <td>0</td>\n",
              "      <td>0</td>\n",
              "      <td>0</td>\n",
              "      <td>0</td>\n",
              "      <td>0</td>\n",
              "      <td>0</td>\n",
              "      <td>0</td>\n",
              "      <td>0</td>\n",
              "      <td>1</td>\n",
              "      <td>0</td>\n",
              "    </tr>\n",
              "    <tr>\n",
              "      <th>4</th>\n",
              "      <td>0.6610</td>\n",
              "      <td>0.510</td>\n",
              "      <td>205640</td>\n",
              "      <td>0.331</td>\n",
              "      <td>0.000000</td>\n",
              "      <td>0.1230</td>\n",
              "      <td>-13.073</td>\n",
              "      <td>0.0895</td>\n",
              "      <td>124.657</td>\n",
              "      <td>0.2250</td>\n",
              "      <td>0</td>\n",
              "      <td>1</td>\n",
              "      <td>0</td>\n",
              "      <td>0</td>\n",
              "      <td>1</td>\n",
              "      <td>0</td>\n",
              "      <td>0</td>\n",
              "      <td>0</td>\n",
              "      <td>0</td>\n",
              "      <td>0</td>\n",
              "      <td>0</td>\n",
              "      <td>0</td>\n",
              "      <td>0</td>\n",
              "      <td>0</td>\n",
              "      <td>0</td>\n",
              "      <td>0</td>\n",
              "      <td>0</td>\n",
              "      <td>1</td>\n",
              "      <td>0</td>\n",
              "    </tr>\n",
              "  </tbody>\n",
              "</table>\n",
              "</div>"
            ],
            "text/plain": [
              "   acousticness  danceability  ...  time_signature_4/4  time_signature_5/4\n",
              "0        0.3230         0.685  ...                   0                   0\n",
              "1        0.0675         0.762  ...                   1                   0\n",
              "2        0.3600         0.563  ...                   1                   0\n",
              "3        0.5960         0.653  ...                   1                   0\n",
              "4        0.6610         0.510  ...                   1                   0\n",
              "\n",
              "[5 rows x 29 columns]"
            ]
          },
          "metadata": {
            "tags": []
          },
          "execution_count": 5
        }
      ]
    },
    {
      "cell_type": "code",
      "metadata": {
        "colab": {
          "base_uri": "https://localhost:8080/"
        },
        "id": "oKpWKqjBDG40",
        "outputId": "668c32fb-7118-473b-ebe9-928e81d6d5ca"
      },
      "source": [
        "from imblearn.over_sampling import SMOTE\n",
        "os = SMOTE()\n",
        "X_oversample, y_oversample = os.fit_resample(X, y)"
      ],
      "execution_count": null,
      "outputs": [
        {
          "output_type": "stream",
          "text": [
            "/usr/local/lib/python3.7/dist-packages/sklearn/externals/six.py:31: FutureWarning: The module is deprecated in version 0.21 and will be removed in version 0.23 since we've dropped support for Python 2.7. Please rely on the official version of six (https://pypi.org/project/six/).\n",
            "  \"(https://pypi.org/project/six/).\", FutureWarning)\n",
            "/usr/local/lib/python3.7/dist-packages/sklearn/utils/deprecation.py:144: FutureWarning: The sklearn.neighbors.base module is  deprecated in version 0.22 and will be removed in version 0.24. The corresponding classes / functions should instead be imported from sklearn.neighbors. Anything that cannot be imported from sklearn.neighbors is now part of the private API.\n",
            "  warnings.warn(message, FutureWarning)\n",
            "/usr/local/lib/python3.7/dist-packages/sklearn/utils/deprecation.py:87: FutureWarning: Function safe_indexing is deprecated; safe_indexing is deprecated in version 0.22 and will be removed in version 0.24.\n",
            "  warnings.warn(msg, category=FutureWarning)\n"
          ],
          "name": "stderr"
        }
      ]
    },
    {
      "cell_type": "code",
      "metadata": {
        "colab": {
          "base_uri": "https://localhost:8080/"
        },
        "id": "YPtiutGP7YJR",
        "outputId": "3e2218cf-6d1b-4b57-da51-b79001e91dfb"
      },
      "source": [
        "#Features shape\n",
        "X_oversample.shape"
      ],
      "execution_count": null,
      "outputs": [
        {
          "output_type": "execute_result",
          "data": {
            "text/plain": [
              "(180862, 29)"
            ]
          },
          "metadata": {
            "tags": []
          },
          "execution_count": 7
        }
      ]
    },
    {
      "cell_type": "code",
      "metadata": {
        "id": "UhduR-SagGYh",
        "colab": {
          "base_uri": "https://localhost:8080/"
        },
        "outputId": "0b36674b-6574-43f2-ca05-bdf9292e361c"
      },
      "source": [
        "# split the dataset into training and testing sets\n",
        "from sklearn.model_selection import train_test_split\n",
        "X_train, X_test, y_train, y_test = train_test_split(X_oversample,\n",
        "   y_oversample,  random_state=1)\n",
        "X_train.shape"
      ],
      "execution_count": null,
      "outputs": [
        {
          "output_type": "execute_result",
          "data": {
            "text/plain": [
              "(135646, 29)"
            ]
          },
          "metadata": {
            "tags": []
          },
          "execution_count": 8
        }
      ]
    },
    {
      "cell_type": "code",
      "metadata": {
        "id": "tIbWdYrlgGYh"
      },
      "source": [
        "# Scaling data for faster training time\n",
        "# Creating a StandardScaler instance.\n",
        "#scaler = StandardScaler()\n",
        "# Fitting the Standard Scaler with the training data.\n",
        "#X_scaler = scaler.fit(X_train)\n",
        "\n",
        "# Scaling the data.\n",
        "#X_train_scaled = X_scaler.transform(X_train)\n",
        "#X_test_scaled = X_scaler.transform(X_test)"
      ],
      "execution_count": null,
      "outputs": []
    },
    {
      "cell_type": "code",
      "metadata": {
        "id": "tLOz8AeWgGYh"
      },
      "source": [
        "# Log Regression model\n",
        "from sklearn.ensemble import RandomForestClassifier\n",
        "model = RandomForestClassifier(max_depth=2,\n",
        "   random_state=1)"
      ],
      "execution_count": null,
      "outputs": []
    },
    {
      "cell_type": "code",
      "metadata": {
        "id": "_J9oy7t3gGYi",
        "colab": {
          "base_uri": "https://localhost:8080/"
        },
        "outputId": "5ac09d84-9302-416e-8a55-36a2c8b166c9"
      },
      "source": [
        "# Train the model\n",
        "model.fit(X_train, y_train)"
      ],
      "execution_count": null,
      "outputs": [
        {
          "output_type": "execute_result",
          "data": {
            "text/plain": [
              "RandomForestClassifier(bootstrap=True, ccp_alpha=0.0, class_weight=None,\n",
              "                       criterion='gini', max_depth=2, max_features='auto',\n",
              "                       max_leaf_nodes=None, max_samples=None,\n",
              "                       min_impurity_decrease=0.0, min_impurity_split=None,\n",
              "                       min_samples_leaf=1, min_samples_split=2,\n",
              "                       min_weight_fraction_leaf=0.0, n_estimators=100,\n",
              "                       n_jobs=None, oob_score=False, random_state=1, verbose=0,\n",
              "                       warm_start=False)"
            ]
          },
          "metadata": {
            "tags": []
          },
          "execution_count": 11
        }
      ]
    },
    {
      "cell_type": "code",
      "metadata": {
        "id": "CDH2LgrJgGYi",
        "colab": {
          "base_uri": "https://localhost:8080/",
          "height": 204
        },
        "outputId": "8eec5837-519a-4848-ed76-56dc48e8c27e"
      },
      "source": [
        "# Create precictions with the model\n",
        "y_pred = model.predict(X_test)\n",
        "results = pd.DataFrame({\n",
        "   \"Prediction\": y_pred,\n",
        "   \"Actual\": y_test\n",
        "}).reset_index(drop=True)\n",
        "results.head()"
      ],
      "execution_count": null,
      "outputs": [
        {
          "output_type": "execute_result",
          "data": {
            "text/html": [
              "<div>\n",
              "<style scoped>\n",
              "    .dataframe tbody tr th:only-of-type {\n",
              "        vertical-align: middle;\n",
              "    }\n",
              "\n",
              "    .dataframe tbody tr th {\n",
              "        vertical-align: top;\n",
              "    }\n",
              "\n",
              "    .dataframe thead th {\n",
              "        text-align: right;\n",
              "    }\n",
              "</style>\n",
              "<table border=\"1\" class=\"dataframe\">\n",
              "  <thead>\n",
              "    <tr style=\"text-align: right;\">\n",
              "      <th></th>\n",
              "      <th>Prediction</th>\n",
              "      <th>Actual</th>\n",
              "    </tr>\n",
              "  </thead>\n",
              "  <tbody>\n",
              "    <tr>\n",
              "      <th>0</th>\n",
              "      <td>1</td>\n",
              "      <td>1</td>\n",
              "    </tr>\n",
              "    <tr>\n",
              "      <th>1</th>\n",
              "      <td>0</td>\n",
              "      <td>0</td>\n",
              "    </tr>\n",
              "    <tr>\n",
              "      <th>2</th>\n",
              "      <td>1</td>\n",
              "      <td>1</td>\n",
              "    </tr>\n",
              "    <tr>\n",
              "      <th>3</th>\n",
              "      <td>1</td>\n",
              "      <td>1</td>\n",
              "    </tr>\n",
              "    <tr>\n",
              "      <th>4</th>\n",
              "      <td>1</td>\n",
              "      <td>0</td>\n",
              "    </tr>\n",
              "  </tbody>\n",
              "</table>\n",
              "</div>"
            ],
            "text/plain": [
              "   Prediction  Actual\n",
              "0           1       1\n",
              "1           0       0\n",
              "2           1       1\n",
              "3           1       1\n",
              "4           1       0"
            ]
          },
          "metadata": {
            "tags": []
          },
          "execution_count": 12
        }
      ]
    },
    {
      "cell_type": "code",
      "metadata": {
        "id": "GOpMyrZpgGYj",
        "colab": {
          "base_uri": "https://localhost:8080/"
        },
        "outputId": "238a3914-29f8-462e-fd0a-e2865311bbb7"
      },
      "source": [
        "# Asses acuraccy score\n",
        "from sklearn.metrics import accuracy_score\n",
        "accuracy_score(y_test, y_pred)"
      ],
      "execution_count": null,
      "outputs": [
        {
          "output_type": "execute_result",
          "data": {
            "text/plain": [
              "0.7666312809624911"
            ]
          },
          "metadata": {
            "tags": []
          },
          "execution_count": 13
        }
      ]
    },
    {
      "cell_type": "code",
      "metadata": {
        "id": "TCAxa7ApgGYk",
        "colab": {
          "base_uri": "https://localhost:8080/"
        },
        "outputId": "378fbf81-b20e-46ab-c1ec-a722de6ada49"
      },
      "source": [
        "# Generate confusion matrix\n",
        "from sklearn.metrics import confusion_matrix\n",
        "confusion_matrix(y_test, y_pred)\n",
        "\n",
        "from sklearn.metrics import classification_report\n",
        "print(classification_report(y_test, y_pred))"
      ],
      "execution_count": null,
      "outputs": [
        {
          "output_type": "stream",
          "text": [
            "              precision    recall  f1-score   support\n",
            "\n",
            "           0       0.83      0.67      0.74     22648\n",
            "           1       0.72      0.86      0.79     22568\n",
            "\n",
            "    accuracy                           0.77     45216\n",
            "   macro avg       0.78      0.77      0.76     45216\n",
            "weighted avg       0.78      0.77      0.76     45216\n",
            "\n"
          ],
          "name": "stdout"
        }
      ]
    },
    {
      "cell_type": "code",
      "metadata": {
        "colab": {
          "base_uri": "https://localhost:8080/"
        },
        "id": "mPsjX-5srgvT",
        "outputId": "3a75e91d-a170-4112-de2f-a922d7847d7e"
      },
      "source": [
        "print(confusion_matrix(y_test, y_pred))"
      ],
      "execution_count": null,
      "outputs": [
        {
          "output_type": "stream",
          "text": [
            "[[15245  7403]\n",
            " [ 3149 19419]]\n"
          ],
          "name": "stdout"
        }
      ]
    },
    {
      "cell_type": "code",
      "metadata": {
        "colab": {
          "base_uri": "https://localhost:8080/"
        },
        "id": "aA8N93ngaIpu",
        "outputId": "f0405aff-804e-4081-9523-d7cd9ae8e027"
      },
      "source": [
        "results[\"Actual\"].value_counts()"
      ],
      "execution_count": null,
      "outputs": [
        {
          "output_type": "execute_result",
          "data": {
            "text/plain": [
              "0    22648\n",
              "1    22568\n",
              "Name: Actual, dtype: int64"
            ]
          },
          "metadata": {
            "tags": []
          },
          "execution_count": 16
        }
      ]
    },
    {
      "cell_type": "code",
      "metadata": {
        "colab": {
          "base_uri": "https://localhost:8080/"
        },
        "id": "tz5MbXjca8q_",
        "outputId": "9b927e8d-d990-4334-8c0a-e05eed1bff77"
      },
      "source": [
        "results[\"Prediction\"].value_counts()"
      ],
      "execution_count": null,
      "outputs": [
        {
          "output_type": "execute_result",
          "data": {
            "text/plain": [
              "1    26822\n",
              "0    18394\n",
              "Name: Prediction, dtype: int64"
            ]
          },
          "metadata": {
            "tags": []
          },
          "execution_count": 17
        }
      ]
    },
    {
      "cell_type": "markdown",
      "metadata": {
        "id": "1N-xtArp_Qy8"
      },
      "source": [
        "Save ML Results\n"
      ]
    },
    {
      "cell_type": "code",
      "metadata": {
        "id": "lMi7LGkLgGYk"
      },
      "source": [
        "import pickle\n",
        "\n",
        "Pkl_Filename = \"Pickle_RanFor_Model.pkl\"  "
      ],
      "execution_count": null,
      "outputs": []
    },
    {
      "cell_type": "code",
      "metadata": {
        "id": "xmm4Whlm-T7k"
      },
      "source": [
        "#Save the file to working directory\n",
        "with open(Pkl_Filename, 'wb') as file:  \n",
        "    pickle.dump(model, file)"
      ],
      "execution_count": null,
      "outputs": []
    },
    {
      "cell_type": "code",
      "metadata": {
        "id": "c7Ojy7Dh_G5T",
        "colab": {
          "base_uri": "https://localhost:8080/"
        },
        "outputId": "df275035-8113-4dd3-bc91-66f9d9258635"
      },
      "source": [
        "# Load the Model back from file\n",
        "with open(Pkl_Filename, 'rb') as file:  \n",
        "    Pickled_RanFor_Model = pickle.load(file)\n",
        "\n",
        "Pickled_RanFor_Model"
      ],
      "execution_count": null,
      "outputs": [
        {
          "output_type": "execute_result",
          "data": {
            "text/plain": [
              "RandomForestClassifier(bootstrap=True, ccp_alpha=0.0, class_weight=None,\n",
              "                       criterion='gini', max_depth=2, max_features='auto',\n",
              "                       max_leaf_nodes=None, max_samples=None,\n",
              "                       min_impurity_decrease=0.0, min_impurity_split=None,\n",
              "                       min_samples_leaf=1, min_samples_split=2,\n",
              "                       min_weight_fraction_leaf=0.0, n_estimators=100,\n",
              "                       n_jobs=None, oob_score=False, random_state=1, verbose=0,\n",
              "                       warm_start=False)"
            ]
          },
          "metadata": {
            "tags": []
          },
          "execution_count": 20
        }
      ]
    },
    {
      "cell_type": "code",
      "metadata": {
        "id": "A2Wc9eQI_njf",
        "colab": {
          "base_uri": "https://localhost:8080/",
          "height": 232
        },
        "outputId": "7f3c5ea8-8f39-4fd6-d6fc-31aa5a8172cd"
      },
      "source": [
        "# Use the Reloaded Model to \n",
        "# Calculate the accuracy score and predict target values\n",
        "\n",
        "# Calculate the Score \n",
        "score = Pickled_RanFor_Model.score(X_test_scaled, y_test)  \n",
        "# Print the Score\n",
        "print(\"Test score: {0:.2f} %\".format(100 * score))  \n",
        "\n",
        "# Predict the Labels using the reloaded Model\n",
        "Ypredict = Pickled_RanFor_Model.predict(X_test_scaled)  \n",
        "\n",
        "Ypredict"
      ],
      "execution_count": null,
      "outputs": [
        {
          "output_type": "error",
          "ename": "NameError",
          "evalue": "ignored",
          "traceback": [
            "\u001b[0;31m---------------------------------------------------------------------------\u001b[0m",
            "\u001b[0;31mNameError\u001b[0m                                 Traceback (most recent call last)",
            "\u001b[0;32m<ipython-input-21-c25920db38b8>\u001b[0m in \u001b[0;36m<module>\u001b[0;34m()\u001b[0m\n\u001b[1;32m      3\u001b[0m \u001b[0;34m\u001b[0m\u001b[0m\n\u001b[1;32m      4\u001b[0m \u001b[0;31m# Calculate the Score\u001b[0m\u001b[0;34m\u001b[0m\u001b[0;34m\u001b[0m\u001b[0;34m\u001b[0m\u001b[0m\n\u001b[0;32m----> 5\u001b[0;31m \u001b[0mscore\u001b[0m \u001b[0;34m=\u001b[0m \u001b[0mPickled_LogReg_Model\u001b[0m\u001b[0;34m.\u001b[0m\u001b[0mscore\u001b[0m\u001b[0;34m(\u001b[0m\u001b[0mX_test_scaled\u001b[0m\u001b[0;34m,\u001b[0m \u001b[0my_test\u001b[0m\u001b[0;34m)\u001b[0m\u001b[0;34m\u001b[0m\u001b[0;34m\u001b[0m\u001b[0m\n\u001b[0m\u001b[1;32m      6\u001b[0m \u001b[0;31m# Print the Score\u001b[0m\u001b[0;34m\u001b[0m\u001b[0;34m\u001b[0m\u001b[0;34m\u001b[0m\u001b[0m\n\u001b[1;32m      7\u001b[0m \u001b[0mprint\u001b[0m\u001b[0;34m(\u001b[0m\u001b[0;34m\"Test score: {0:.2f} %\"\u001b[0m\u001b[0;34m.\u001b[0m\u001b[0mformat\u001b[0m\u001b[0;34m(\u001b[0m\u001b[0;36m100\u001b[0m \u001b[0;34m*\u001b[0m \u001b[0mscore\u001b[0m\u001b[0;34m)\u001b[0m\u001b[0;34m)\u001b[0m\u001b[0;34m\u001b[0m\u001b[0;34m\u001b[0m\u001b[0m\n",
            "\u001b[0;31mNameError\u001b[0m: name 'X_test_scaled' is not defined"
          ]
        }
      ]
    }
  ]
}