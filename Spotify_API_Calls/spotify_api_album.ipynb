{
 "cells": [
  {
   "cell_type": "code",
   "execution_count": 1,
   "metadata": {},
   "outputs": [],
   "source": [
    "\n",
    "import spotipy\n",
    "from spotipy.oauth2 import SpotifyClientCredentials\n",
    "import pandas as pd\n",
    "import time \n",
    "\n",
    "from config import clientID, clientSecret\n",
    "\n",
    "sp = spotipy.Spotify(auth_manager=SpotifyClientCredentials(client_id=clientID,\\\n",
    "                                                            client_secret=clientSecret))"
   ]
  },
  {
   "cell_type": "code",
   "execution_count": 2,
   "metadata": {
    "tags": []
   },
   "outputs": [],
   "source": [
    "def getTrackIDs(album_id):\n",
    "    song_ids = []\n",
    "    album = sp.album_tracks(album_id)\n",
    "    for item in album['items']:\n",
    "        song_ids.append(item['id'])\n",
    "    return song_ids\n",
    "\n",
    "#Insert album ID\n",
    "song_ids = getTrackIDs('spotify:album:4LaRYkT4oy47wEuQgkLBul')"
   ]
  },
  {
   "cell_type": "code",
   "execution_count": 3,
   "metadata": {},
   "outputs": [],
   "source": [
    "def getTrackFeatures(id):\n",
    "  # for id in song_ids:\n",
    "    meta = sp.track(id)\n",
    "    features = sp.audio_features(id)\n",
    "\n",
    "    # meta\n",
    "    name = meta['name']\n",
    "    album = meta['album']['name']\n",
    "    artist = meta['album']['artists'][0]['name']\n",
    "    release_date = meta['album']['release_date']\n",
    "    length = meta['duration_ms']\n",
    "    popularity = meta['popularity']\n",
    "\n",
    "    # features\n",
    "    acousticness = features[0]['acousticness']\n",
    "    danceability = features[0]['danceability']\n",
    "    energy = features[0]['energy']\n",
    "    instrumentalness = features[0]['instrumentalness']\n",
    "    liveness = features[0]['liveness']\n",
    "    loudness = features[0]['loudness']\n",
    "    speechiness = features[0]['speechiness']\n",
    "    tempo = features[0]['tempo']\n",
    "    time_signature = features[0]['time_signature']\n",
    "\n",
    "    track = [name, album, artist, release_date, length, popularity, danceability, acousticness, danceability, energy, instrumentalness, liveness, loudness, speechiness, tempo, time_signature]\n",
    "    return track"
   ]
  },
  {
   "cell_type": "code",
   "execution_count": 4,
   "metadata": {
    "tags": []
   },
   "outputs": [],
   "source": [
    "# loop over track ids \n",
    "tracks = []\n",
    "for i in range(len(song_ids)):\n",
    "  time.sleep(.5)\n",
    "  #album = getAlbumIDs(album_ids[i])\n",
    "  #song = getTrackIDs(album_ids)\n",
    "  track = getTrackFeatures(song_ids[i])\n",
    "  tracks.append(track)\n",
    "\n",
    "# create dataset\n",
    "df = pd.DataFrame(tracks, columns = ['name', 'album', 'artist', 'release_date', 'length', 'popularity', 'danceability', 'acousticness', 'danceability', 'energy', 'instrumentalness', 'liveness', 'loudness', 'speechiness', 'tempo', 'time_signature'])\n",
    "#df.to_csv(\"spotify.csv\", sep = ',')\n"
   ]
  },
  {
   "cell_type": "code",
   "execution_count": 5,
   "metadata": {},
   "outputs": [
    {
     "output_type": "execute_result",
     "data": {
      "text/plain": "                  name                     album                    artist  \\\n0            Bombtrack  Rage Against The Machine  Rage Against The Machine   \n1  Killing In the Name  Rage Against The Machine  Rage Against The Machine   \n2  Take the Power Back  Rage Against The Machine  Rage Against The Machine   \n3   Settle for Nothing  Rage Against The Machine  Rage Against The Machine   \n4   Bullet In the Head  Rage Against The Machine  Rage Against The Machine   \n5      Know Your Enemy  Rage Against The Machine  Rage Against The Machine   \n6              Wake Up  Rage Against The Machine  Rage Against The Machine   \n7     Fistful of Steel  Rage Against The Machine  Rage Against The Machine   \n8   Township Rebellion  Rage Against The Machine  Rage Against The Machine   \n9              Freedom  Rage Against The Machine  Rage Against The Machine   \n\n  release_date  length  popularity  danceability  acousticness  danceability  \\\n0   1992-11-03  243760          53         0.478       0.01340         0.478   \n1   1992-11-03  313666          59         0.457       0.01850         0.457   \n2   1992-11-03  335840          49         0.542       0.04300         0.542   \n3   1992-11-03  287333          44         0.516       0.02530         0.516   \n4   1992-11-03  307066          50         0.418       0.00320         0.418   \n5   1992-11-03  294693          50         0.574       0.01410         0.574   \n6   1992-11-03  364133          48         0.411       0.00316         0.411   \n7   1992-11-03  331106          45         0.520       0.01950         0.520   \n8   1992-11-03  324426          44         0.525       0.00747         0.525   \n9   1992-11-03  366266          47         0.499       0.00061         0.499   \n\n   energy  instrumentalness  liveness  loudness  speechiness    tempo  \\\n0   0.855          0.000032    0.1790    -7.438       0.1210  151.930   \n1   0.779          0.000002    0.0247    -6.323       0.2570   86.573   \n2   0.842          0.000153    0.1730    -7.137       0.1730  104.772   \n3   0.533          0.000047    0.1130    -9.563       0.0429   97.732   \n4   0.806          0.000788    0.6230    -6.965       0.1280  164.202   \n5   0.765          0.003780    0.1360    -7.755       0.1280  117.636   \n6   0.823          0.014800    0.1490    -7.554       0.1150  170.281   \n7   0.755          0.340000    0.0956    -9.031       0.1340  155.513   \n8   0.597          0.005530    0.3510    -8.578       0.0551  133.580   \n9   0.613          0.022500    0.2320    -8.530       0.0953  113.577   \n\n   time_signature  \n0               4  \n1               4  \n2               4  \n3               4  \n4               4  \n5               4  \n6               4  \n7               4  \n8               4  \n9               4  ",
      "text/html": "<div>\n<style scoped>\n    .dataframe tbody tr th:only-of-type {\n        vertical-align: middle;\n    }\n\n    .dataframe tbody tr th {\n        vertical-align: top;\n    }\n\n    .dataframe thead th {\n        text-align: right;\n    }\n</style>\n<table border=\"1\" class=\"dataframe\">\n  <thead>\n    <tr style=\"text-align: right;\">\n      <th></th>\n      <th>name</th>\n      <th>album</th>\n      <th>artist</th>\n      <th>release_date</th>\n      <th>length</th>\n      <th>popularity</th>\n      <th>danceability</th>\n      <th>acousticness</th>\n      <th>danceability</th>\n      <th>energy</th>\n      <th>instrumentalness</th>\n      <th>liveness</th>\n      <th>loudness</th>\n      <th>speechiness</th>\n      <th>tempo</th>\n      <th>time_signature</th>\n    </tr>\n  </thead>\n  <tbody>\n    <tr>\n      <th>0</th>\n      <td>Bombtrack</td>\n      <td>Rage Against The Machine</td>\n      <td>Rage Against The Machine</td>\n      <td>1992-11-03</td>\n      <td>243760</td>\n      <td>53</td>\n      <td>0.478</td>\n      <td>0.01340</td>\n      <td>0.478</td>\n      <td>0.855</td>\n      <td>0.000032</td>\n      <td>0.1790</td>\n      <td>-7.438</td>\n      <td>0.1210</td>\n      <td>151.930</td>\n      <td>4</td>\n    </tr>\n    <tr>\n      <th>1</th>\n      <td>Killing In the Name</td>\n      <td>Rage Against The Machine</td>\n      <td>Rage Against The Machine</td>\n      <td>1992-11-03</td>\n      <td>313666</td>\n      <td>59</td>\n      <td>0.457</td>\n      <td>0.01850</td>\n      <td>0.457</td>\n      <td>0.779</td>\n      <td>0.000002</td>\n      <td>0.0247</td>\n      <td>-6.323</td>\n      <td>0.2570</td>\n      <td>86.573</td>\n      <td>4</td>\n    </tr>\n    <tr>\n      <th>2</th>\n      <td>Take the Power Back</td>\n      <td>Rage Against The Machine</td>\n      <td>Rage Against The Machine</td>\n      <td>1992-11-03</td>\n      <td>335840</td>\n      <td>49</td>\n      <td>0.542</td>\n      <td>0.04300</td>\n      <td>0.542</td>\n      <td>0.842</td>\n      <td>0.000153</td>\n      <td>0.1730</td>\n      <td>-7.137</td>\n      <td>0.1730</td>\n      <td>104.772</td>\n      <td>4</td>\n    </tr>\n    <tr>\n      <th>3</th>\n      <td>Settle for Nothing</td>\n      <td>Rage Against The Machine</td>\n      <td>Rage Against The Machine</td>\n      <td>1992-11-03</td>\n      <td>287333</td>\n      <td>44</td>\n      <td>0.516</td>\n      <td>0.02530</td>\n      <td>0.516</td>\n      <td>0.533</td>\n      <td>0.000047</td>\n      <td>0.1130</td>\n      <td>-9.563</td>\n      <td>0.0429</td>\n      <td>97.732</td>\n      <td>4</td>\n    </tr>\n    <tr>\n      <th>4</th>\n      <td>Bullet In the Head</td>\n      <td>Rage Against The Machine</td>\n      <td>Rage Against The Machine</td>\n      <td>1992-11-03</td>\n      <td>307066</td>\n      <td>50</td>\n      <td>0.418</td>\n      <td>0.00320</td>\n      <td>0.418</td>\n      <td>0.806</td>\n      <td>0.000788</td>\n      <td>0.6230</td>\n      <td>-6.965</td>\n      <td>0.1280</td>\n      <td>164.202</td>\n      <td>4</td>\n    </tr>\n    <tr>\n      <th>5</th>\n      <td>Know Your Enemy</td>\n      <td>Rage Against The Machine</td>\n      <td>Rage Against The Machine</td>\n      <td>1992-11-03</td>\n      <td>294693</td>\n      <td>50</td>\n      <td>0.574</td>\n      <td>0.01410</td>\n      <td>0.574</td>\n      <td>0.765</td>\n      <td>0.003780</td>\n      <td>0.1360</td>\n      <td>-7.755</td>\n      <td>0.1280</td>\n      <td>117.636</td>\n      <td>4</td>\n    </tr>\n    <tr>\n      <th>6</th>\n      <td>Wake Up</td>\n      <td>Rage Against The Machine</td>\n      <td>Rage Against The Machine</td>\n      <td>1992-11-03</td>\n      <td>364133</td>\n      <td>48</td>\n      <td>0.411</td>\n      <td>0.00316</td>\n      <td>0.411</td>\n      <td>0.823</td>\n      <td>0.014800</td>\n      <td>0.1490</td>\n      <td>-7.554</td>\n      <td>0.1150</td>\n      <td>170.281</td>\n      <td>4</td>\n    </tr>\n    <tr>\n      <th>7</th>\n      <td>Fistful of Steel</td>\n      <td>Rage Against The Machine</td>\n      <td>Rage Against The Machine</td>\n      <td>1992-11-03</td>\n      <td>331106</td>\n      <td>45</td>\n      <td>0.520</td>\n      <td>0.01950</td>\n      <td>0.520</td>\n      <td>0.755</td>\n      <td>0.340000</td>\n      <td>0.0956</td>\n      <td>-9.031</td>\n      <td>0.1340</td>\n      <td>155.513</td>\n      <td>4</td>\n    </tr>\n    <tr>\n      <th>8</th>\n      <td>Township Rebellion</td>\n      <td>Rage Against The Machine</td>\n      <td>Rage Against The Machine</td>\n      <td>1992-11-03</td>\n      <td>324426</td>\n      <td>44</td>\n      <td>0.525</td>\n      <td>0.00747</td>\n      <td>0.525</td>\n      <td>0.597</td>\n      <td>0.005530</td>\n      <td>0.3510</td>\n      <td>-8.578</td>\n      <td>0.0551</td>\n      <td>133.580</td>\n      <td>4</td>\n    </tr>\n    <tr>\n      <th>9</th>\n      <td>Freedom</td>\n      <td>Rage Against The Machine</td>\n      <td>Rage Against The Machine</td>\n      <td>1992-11-03</td>\n      <td>366266</td>\n      <td>47</td>\n      <td>0.499</td>\n      <td>0.00061</td>\n      <td>0.499</td>\n      <td>0.613</td>\n      <td>0.022500</td>\n      <td>0.2320</td>\n      <td>-8.530</td>\n      <td>0.0953</td>\n      <td>113.577</td>\n      <td>4</td>\n    </tr>\n  </tbody>\n</table>\n</div>"
     },
     "metadata": {},
     "execution_count": 5
    }
   ],
   "source": [
    "df"
   ]
  },
  {
   "cell_type": "code",
   "execution_count": null,
   "metadata": {},
   "outputs": [],
   "source": []
  }
 ],
 "metadata": {
  "language_info": {
   "codemirror_mode": {
    "name": "ipython",
    "version": 3
   },
   "file_extension": ".py",
   "mimetype": "text/x-python",
   "name": "python",
   "nbconvert_exporter": "python",
   "pygments_lexer": "ipython3",
   "version": "3.8.2-final"
  },
  "orig_nbformat": 2,
  "kernelspec": {
   "name": "pythondatakernel",
   "display_name": "PythonDataKernel"
  }
 },
 "nbformat": 4,
 "nbformat_minor": 2
}