{
 "cells": [
  {
   "cell_type": "code",
   "execution_count": 1,
   "metadata": {},
   "outputs": [],
   "source": [
    "\n",
    "import spotipy\n",
    "from spotipy.oauth2 import SpotifyClientCredentials\n",
    "import pandas as pd\n",
    "import time \n",
    "\n",
    "from config import clientID, clientSecret\n",
    "\n",
    "sp = spotipy.Spotify(auth_manager=SpotifyClientCredentials(client_id=clientID,\\\n",
    "                                                            client_secret=clientSecret))"
   ]
  },
  {
   "cell_type": "code",
   "execution_count": 2,
   "metadata": {},
   "outputs": [],
   "source": [
    "# GETTING INFO FROM ARTIST CATALOG\n",
    "def getAlbumIDs(artist_id):\n",
    "    album_ids = []\n",
    "    artist = sp.artist_albums(artist_id)\n",
    "    for item in artist['items']:\n",
    "        album_ids.append(item['id'])\n",
    "    return album_ids\n",
    "\n",
    "# Insert artist id\n",
    "album_ids = getAlbumIDs('spotify:artist:2ySHS7UojGu20XfUPaBlyu')"
   ]
  },
  {
   "cell_type": "code",
   "execution_count": 3,
   "metadata": {},
   "outputs": [],
   "source": [
    "def getTrackIDs(album_id):\n",
    "    song_ids = []\n",
    "    for id in album_id:\n",
    "        album = sp.album_tracks(id)\n",
    "        for item in album['items']:\n",
    "            song_ids.append(item['id'])\n",
    "    return song_ids\n",
    "\n",
    "song_ids = getTrackIDs(album_ids)"
   ]
  },
  {
   "cell_type": "code",
   "execution_count": 4,
   "metadata": {},
   "outputs": [],
   "source": [
    "def getTrackFeatures(id):\n",
    "  # for id in song_ids:\n",
    "    meta = sp.track(id)\n",
    "    features = sp.audio_features(id)\n",
    "\n",
    "    # meta\n",
    "    name = meta['name']\n",
    "    album = meta['album']['name']\n",
    "    artist = meta['album']['artists'][0]['name']\n",
    "    release_date = meta['album']['release_date']\n",
    "    length = meta['duration_ms']\n",
    "    popularity = meta['popularity']\n",
    "\n",
    "    # features\n",
    "    acousticness = features[0]['acousticness']\n",
    "    danceability = features[0]['danceability']\n",
    "    energy = features[0]['energy']\n",
    "    instrumentalness = features[0]['instrumentalness']\n",
    "    liveness = features[0]['liveness']\n",
    "    loudness = features[0]['loudness']\n",
    "    speechiness = features[0]['speechiness']\n",
    "    tempo = features[0]['tempo']\n",
    "    time_signature = features[0]['time_signature']\n",
    "\n",
    "    track = [name, album, artist, release_date, length, popularity, danceability, acousticness, danceability, energy, instrumentalness, liveness, loudness, speechiness, tempo, time_signature]\n",
    "    return track"
   ]
  },
  {
   "cell_type": "code",
   "execution_count": 5,
   "metadata": {
    "tags": []
   },
   "outputs": [],
   "source": [
    "# loop over track ids \n",
    "tracks = []\n",
    "for i in range(len(song_ids)):\n",
    "  time.sleep(.5)\n",
    "  #album = getAlbumIDs(album_ids[i])\n",
    "  #song = getTrackIDs(album_ids)\n",
    "  track = getTrackFeatures(song_ids[i])\n",
    "  tracks.append(track)\n",
    "\n",
    "# create dataset\n",
    "df = pd.DataFrame(tracks, columns = ['name', 'album', 'artist', 'release_date', 'length', 'popularity', 'danceability', 'acousticness', 'danceability', 'energy', 'instrumentalness', 'liveness', 'loudness', 'speechiness', 'tempo', 'time_signature'])\n",
    "#df.to_csv(\"spotify.csv\", sep = ',')\n"
   ]
  },
  {
   "cell_type": "code",
   "execution_count": 6,
   "metadata": {},
   "outputs": [
    {
     "output_type": "execute_result",
     "data": {
      "text/plain": "                                                 name  \\\n0                   Dip - Songs in the Key of F; Live   \n1             All On Me - Songs in the Key of F; Live   \n2   Asking For A Friend - Songs in the Key of F; Live   \n3        Second to Last - Songs in the Key of F; Live   \n4              Symptoms - Songs in the Key of F; Live   \n..                                                ...   \n94  No Place Like Hometown (HARDY feat. Keith Urba...   \n95  Something A Lil' Stronger (HARDY feat. Mitchel...   \n96  What They Make Backroads For (HARDY feat. Trac...   \n97  Turn You Down (HARDY feat. Morgan Wallen, Zakk...   \n98  One Beer (HARDY feat. Lauren Alaina, Devin Daw...   \n\n                                       album        artist release_date  \\\n0   Dark Horse: Songs in the Key of F (Live)  Devin Dawson   2018-12-14   \n1   Dark Horse: Songs in the Key of F (Live)  Devin Dawson   2018-12-14   \n2   Dark Horse: Songs in the Key of F (Live)  Devin Dawson   2018-12-14   \n3   Dark Horse: Songs in the Key of F (Live)  Devin Dawson   2018-12-14   \n4   Dark Horse: Songs in the Key of F (Live)  Devin Dawson   2018-12-14   \n..                                       ...           ...          ...   \n94                           HIXTAPE: Vol. 1       HIXTAPE   2019-09-13   \n95                           HIXTAPE: Vol. 1       HIXTAPE   2019-09-13   \n96                           HIXTAPE: Vol. 1       HIXTAPE   2019-09-13   \n97                           HIXTAPE: Vol. 1       HIXTAPE   2019-09-13   \n98                           HIXTAPE: Vol. 1       HIXTAPE   2019-09-13   \n\n    length  popularity  danceability  acousticness  danceability  energy  \\\n0   183373          18         0.736        0.0454         0.736   0.782   \n1   222880          26         0.658        0.5420         0.658   0.553   \n2   250773          21         0.750        0.2510         0.750   0.470   \n3   201226          18         0.703        0.1970         0.703   0.813   \n4   267626          19         0.383        0.7740         0.383   0.393   \n..     ...         ...           ...           ...           ...     ...   \n94  241813          46         0.523        0.0317         0.523   0.776   \n95  197173          50         0.505        0.0253         0.505   0.756   \n96  198466          48         0.576        0.0645         0.576   0.786   \n97  154960          52         0.615        0.0131         0.615   0.874   \n98  173173          76         0.516        0.5630         0.516   0.745   \n\n    instrumentalness  liveness  loudness  speechiness    tempo  time_signature  \n0           0.000000    0.0324    -4.883       0.0621   90.028               4  \n1           0.000000    0.0838    -5.726       0.0391   77.989               4  \n2           0.000001    0.1240    -7.685       0.0429  119.025               4  \n3           0.000000    0.1410    -5.413       0.0807  172.104               4  \n4           0.000000    0.0968    -8.350       0.0418   93.472               1  \n..               ...       ...       ...          ...      ...             ...  \n94          0.000000    0.0962    -4.542       0.0403  139.905               4  \n95          0.000000    0.1260    -4.730       0.0305  144.029               4  \n96          0.002360    0.1400    -6.562       0.0351  154.010               4  \n97          0.000000    0.3300    -3.375       0.1040  107.970               4  \n98          0.000000    0.2750    -8.352       0.0774  186.004               3  \n\n[99 rows x 16 columns]",
      "text/html": "<div>\n<style scoped>\n    .dataframe tbody tr th:only-of-type {\n        vertical-align: middle;\n    }\n\n    .dataframe tbody tr th {\n        vertical-align: top;\n    }\n\n    .dataframe thead th {\n        text-align: right;\n    }\n</style>\n<table border=\"1\" class=\"dataframe\">\n  <thead>\n    <tr style=\"text-align: right;\">\n      <th></th>\n      <th>name</th>\n      <th>album</th>\n      <th>artist</th>\n      <th>release_date</th>\n      <th>length</th>\n      <th>popularity</th>\n      <th>danceability</th>\n      <th>acousticness</th>\n      <th>danceability</th>\n      <th>energy</th>\n      <th>instrumentalness</th>\n      <th>liveness</th>\n      <th>loudness</th>\n      <th>speechiness</th>\n      <th>tempo</th>\n      <th>time_signature</th>\n    </tr>\n  </thead>\n  <tbody>\n    <tr>\n      <th>0</th>\n      <td>Dip - Songs in the Key of F; Live</td>\n      <td>Dark Horse: Songs in the Key of F (Live)</td>\n      <td>Devin Dawson</td>\n      <td>2018-12-14</td>\n      <td>183373</td>\n      <td>18</td>\n      <td>0.736</td>\n      <td>0.0454</td>\n      <td>0.736</td>\n      <td>0.782</td>\n      <td>0.000000</td>\n      <td>0.0324</td>\n      <td>-4.883</td>\n      <td>0.0621</td>\n      <td>90.028</td>\n      <td>4</td>\n    </tr>\n    <tr>\n      <th>1</th>\n      <td>All On Me - Songs in the Key of F; Live</td>\n      <td>Dark Horse: Songs in the Key of F (Live)</td>\n      <td>Devin Dawson</td>\n      <td>2018-12-14</td>\n      <td>222880</td>\n      <td>26</td>\n      <td>0.658</td>\n      <td>0.5420</td>\n      <td>0.658</td>\n      <td>0.553</td>\n      <td>0.000000</td>\n      <td>0.0838</td>\n      <td>-5.726</td>\n      <td>0.0391</td>\n      <td>77.989</td>\n      <td>4</td>\n    </tr>\n    <tr>\n      <th>2</th>\n      <td>Asking For A Friend - Songs in the Key of F; Live</td>\n      <td>Dark Horse: Songs in the Key of F (Live)</td>\n      <td>Devin Dawson</td>\n      <td>2018-12-14</td>\n      <td>250773</td>\n      <td>21</td>\n      <td>0.750</td>\n      <td>0.2510</td>\n      <td>0.750</td>\n      <td>0.470</td>\n      <td>0.000001</td>\n      <td>0.1240</td>\n      <td>-7.685</td>\n      <td>0.0429</td>\n      <td>119.025</td>\n      <td>4</td>\n    </tr>\n    <tr>\n      <th>3</th>\n      <td>Second to Last - Songs in the Key of F; Live</td>\n      <td>Dark Horse: Songs in the Key of F (Live)</td>\n      <td>Devin Dawson</td>\n      <td>2018-12-14</td>\n      <td>201226</td>\n      <td>18</td>\n      <td>0.703</td>\n      <td>0.1970</td>\n      <td>0.703</td>\n      <td>0.813</td>\n      <td>0.000000</td>\n      <td>0.1410</td>\n      <td>-5.413</td>\n      <td>0.0807</td>\n      <td>172.104</td>\n      <td>4</td>\n    </tr>\n    <tr>\n      <th>4</th>\n      <td>Symptoms - Songs in the Key of F; Live</td>\n      <td>Dark Horse: Songs in the Key of F (Live)</td>\n      <td>Devin Dawson</td>\n      <td>2018-12-14</td>\n      <td>267626</td>\n      <td>19</td>\n      <td>0.383</td>\n      <td>0.7740</td>\n      <td>0.383</td>\n      <td>0.393</td>\n      <td>0.000000</td>\n      <td>0.0968</td>\n      <td>-8.350</td>\n      <td>0.0418</td>\n      <td>93.472</td>\n      <td>1</td>\n    </tr>\n    <tr>\n      <th>...</th>\n      <td>...</td>\n      <td>...</td>\n      <td>...</td>\n      <td>...</td>\n      <td>...</td>\n      <td>...</td>\n      <td>...</td>\n      <td>...</td>\n      <td>...</td>\n      <td>...</td>\n      <td>...</td>\n      <td>...</td>\n      <td>...</td>\n      <td>...</td>\n      <td>...</td>\n      <td>...</td>\n    </tr>\n    <tr>\n      <th>94</th>\n      <td>No Place Like Hometown (HARDY feat. Keith Urba...</td>\n      <td>HIXTAPE: Vol. 1</td>\n      <td>HIXTAPE</td>\n      <td>2019-09-13</td>\n      <td>241813</td>\n      <td>46</td>\n      <td>0.523</td>\n      <td>0.0317</td>\n      <td>0.523</td>\n      <td>0.776</td>\n      <td>0.000000</td>\n      <td>0.0962</td>\n      <td>-4.542</td>\n      <td>0.0403</td>\n      <td>139.905</td>\n      <td>4</td>\n    </tr>\n    <tr>\n      <th>95</th>\n      <td>Something A Lil' Stronger (HARDY feat. Mitchel...</td>\n      <td>HIXTAPE: Vol. 1</td>\n      <td>HIXTAPE</td>\n      <td>2019-09-13</td>\n      <td>197173</td>\n      <td>50</td>\n      <td>0.505</td>\n      <td>0.0253</td>\n      <td>0.505</td>\n      <td>0.756</td>\n      <td>0.000000</td>\n      <td>0.1260</td>\n      <td>-4.730</td>\n      <td>0.0305</td>\n      <td>144.029</td>\n      <td>4</td>\n    </tr>\n    <tr>\n      <th>96</th>\n      <td>What They Make Backroads For (HARDY feat. Trac...</td>\n      <td>HIXTAPE: Vol. 1</td>\n      <td>HIXTAPE</td>\n      <td>2019-09-13</td>\n      <td>198466</td>\n      <td>48</td>\n      <td>0.576</td>\n      <td>0.0645</td>\n      <td>0.576</td>\n      <td>0.786</td>\n      <td>0.002360</td>\n      <td>0.1400</td>\n      <td>-6.562</td>\n      <td>0.0351</td>\n      <td>154.010</td>\n      <td>4</td>\n    </tr>\n    <tr>\n      <th>97</th>\n      <td>Turn You Down (HARDY feat. Morgan Wallen, Zakk...</td>\n      <td>HIXTAPE: Vol. 1</td>\n      <td>HIXTAPE</td>\n      <td>2019-09-13</td>\n      <td>154960</td>\n      <td>52</td>\n      <td>0.615</td>\n      <td>0.0131</td>\n      <td>0.615</td>\n      <td>0.874</td>\n      <td>0.000000</td>\n      <td>0.3300</td>\n      <td>-3.375</td>\n      <td>0.1040</td>\n      <td>107.970</td>\n      <td>4</td>\n    </tr>\n    <tr>\n      <th>98</th>\n      <td>One Beer (HARDY feat. Lauren Alaina, Devin Daw...</td>\n      <td>HIXTAPE: Vol. 1</td>\n      <td>HIXTAPE</td>\n      <td>2019-09-13</td>\n      <td>173173</td>\n      <td>76</td>\n      <td>0.516</td>\n      <td>0.5630</td>\n      <td>0.516</td>\n      <td>0.745</td>\n      <td>0.000000</td>\n      <td>0.2750</td>\n      <td>-8.352</td>\n      <td>0.0774</td>\n      <td>186.004</td>\n      <td>3</td>\n    </tr>\n  </tbody>\n</table>\n<p>99 rows × 16 columns</p>\n</div>"
     },
     "metadata": {},
     "execution_count": 6
    }
   ],
   "source": [
    "df"
   ]
  },
  {
   "cell_type": "code",
   "execution_count": null,
   "metadata": {},
   "outputs": [],
   "source": []
  }
 ],
 "metadata": {
  "language_info": {
   "codemirror_mode": {
    "name": "ipython",
    "version": 3
   },
   "file_extension": ".py",
   "mimetype": "text/x-python",
   "name": "python",
   "nbconvert_exporter": "python",
   "pygments_lexer": "ipython3",
   "version": "3.8.2-final"
  },
  "orig_nbformat": 2,
  "kernelspec": {
   "name": "pythondatakernel",
   "display_name": "PythonDataKernel"
  }
 },
 "nbformat": 4,
 "nbformat_minor": 2
}