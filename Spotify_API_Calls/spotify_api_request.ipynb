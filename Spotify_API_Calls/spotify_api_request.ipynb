{
 "cells": [
  {
   "cell_type": "code",
   "execution_count": 14,
   "metadata": {},
   "outputs": [],
   "source": [
    "import spotipy\n",
    "from spotipy.oauth2 import SpotifyClientCredentials\n",
    "import pandas as pd\n",
    "import time\n",
    "import datetime as dt\n",
    "\n",
    "from config import clientID, clientSecret\n",
    "\n",
    "sp = spotipy.Spotify(auth_manager=SpotifyClientCredentials(client_id=clientID,\\\n",
    "                                                            client_secret=clientSecret))"
   ]
  },
  {
   "cell_type": "code",
   "execution_count": 3,
   "metadata": {
    "tags": []
   },
   "outputs": [],
   "source": [
    "# results = sp.search(q='nick dimaria', limit=20)\n",
    "# for idx, track in enumerate(results['tracks']['items']):\n",
    "#     print(idx, track['name'])"
   ]
  },
  {
   "cell_type": "code",
   "execution_count": 4,
   "metadata": {
    "tags": []
   },
   "outputs": [],
   "source": [
    "# artist_info = sp.search(q='the who', limit=1)\n",
    "# for info in artist_info['tracks']['items']:\n",
    "#     print(info)"
   ]
  },
  {
   "cell_type": "code",
   "execution_count": 5,
   "metadata": {},
   "outputs": [],
   "source": [
    "# sp.search(q='nick dimaria', limit=20)"
   ]
  },
  {
   "cell_type": "code",
   "execution_count": 6,
   "metadata": {
    "tags": []
   },
   "outputs": [],
   "source": [
    "# track_info = sp.track('2319gHincsCeSmc19Efi2j')\n",
    "# for info in track_info:\n",
    "#     print(info)"
   ]
  },
  {
   "cell_type": "code",
   "execution_count": 7,
   "metadata": {},
   "outputs": [],
   "source": [
    "# sp.track('2319gHincsCeSmc19Efi2j')"
   ]
  },
  {
   "cell_type": "code",
   "execution_count": 8,
   "metadata": {},
   "outputs": [],
   "source": [
    "def getTrackIDs(user, playlist_id):\n",
    "    ids = []\n",
    "    playlist = sp.user_playlist(user, playlist_id)\n",
    "    for item in playlist['tracks']['items']:\n",
    "        track = item['track']\n",
    "        ids.append(track['id'])\n",
    "    return ids\n",
    "\n",
    "ids = getTrackIDs('nmdimaria', '37i9dQZF1EuTCpDgLn8lAw')"
   ]
  },
  {
   "cell_type": "code",
   "execution_count": 9,
   "metadata": {},
   "outputs": [],
   "source": [
    "def getTrackFeatures(id):\n",
    "  meta = sp.track(id)\n",
    "  features = sp.audio_features(id)\n",
    "\n",
    "  # meta\n",
    "  name = meta['name']\n",
    "  album = meta['album']['name']\n",
    "  artist = meta['album']['artists'][0]['name']\n",
    "  release_date = meta['album']['release_date']\n",
    "  length = meta['duration_ms']\n",
    "  popularity = meta['popularity']\n",
    "\n",
    "  # features\n",
    "  acousticness = features[0]['acousticness']\n",
    "  danceability = features[0]['danceability']\n",
    "  energy = features[0]['energy']\n",
    "  instrumentalness = features[0]['instrumentalness']\n",
    "  liveness = features[0]['liveness']\n",
    "  loudness = features[0]['loudness']\n",
    "  speechiness = features[0]['speechiness']\n",
    "  tempo = features[0]['tempo']\n",
    "  time_signature = features[0]['time_signature']\n",
    "\n",
    "  track = [name, album, artist, release_date, length, popularity, danceability, acousticness, danceability, energy, instrumentalness, liveness, loudness, speechiness, tempo, time_signature]\n",
    "  return track"
   ]
  },
  {
   "cell_type": "code",
   "execution_count": 10,
   "metadata": {},
   "outputs": [],
   "source": [
    "# loop over track ids \n",
    "tracks = []\n",
    "for i in range(len(ids)):\n",
    "  time.sleep(.5)\n",
    "  track = getTrackFeatures(ids[i])\n",
    "  tracks.append(track)\n",
    "\n",
    "# create dataset\n",
    "df = pd.DataFrame(tracks, columns = ['name', 'album', 'artist', 'release_date', 'length', 'popularity', 'danceability', 'acousticness', 'danceability', 'energy', 'instrumentalness', 'liveness', 'loudness', 'speechiness', 'tempo', 'time_signature'])\n",
    "#df.to_csv(\"spotify.csv\", sep = ',')\n"
   ]
  },
  {
   "cell_type": "code",
   "execution_count": 46,
   "metadata": {},
   "outputs": [
    {
     "output_type": "execute_result",
     "data": {
      "text/plain": "                         name                                        album  \\\n0                   New Rules                  Dua Lipa (Complete Edition)   \n1              Gives You Hell                    When The World Comes Down   \n2                   Chocolate                                     The 1975   \n3  Magic (feat. Rivers Cuomo)  B.o.B Presents: The Adventures of Bobby Ray   \n4                Scholarships                      What A Time To Be Alive   \n\n                     artist release_date  length  popularity  danceability  \\\n0                  Dua Lipa         2015  209320          56         0.762   \n1  The All-American Rejects   2008-01-01  213106          73         0.718   \n2                  The 1975   2013-01-01  224673          67         0.614   \n3                     B.o.B   2010-04-27  196133          67         0.549   \n4                     Drake   2015-09-20  209287          61         0.739   \n\n   acousticness  danceability  energy  instrumentalness  liveness  loudness  \\\n0      0.002610         0.762   0.700          0.000016    0.1530    -6.021   \n1      0.015900         0.718   0.691          0.000000    0.0627    -6.440   \n2      0.000532         0.614   0.938          0.000000    0.3680    -4.461   \n3      0.012700         0.549   0.932          0.000000    0.3470    -4.110   \n4      0.096600         0.739   0.416          0.000013    0.1000    -9.319   \n\n   speechiness    tempo  time_signature  \n0       0.0694  116.073               4  \n1       0.0387  100.008               4  \n2       0.0611  100.058               4  \n3       0.3430   82.439               4  \n4       0.2850  109.168               4  ",
      "text/html": "<div>\n<style scoped>\n    .dataframe tbody tr th:only-of-type {\n        vertical-align: middle;\n    }\n\n    .dataframe tbody tr th {\n        vertical-align: top;\n    }\n\n    .dataframe thead th {\n        text-align: right;\n    }\n</style>\n<table border=\"1\" class=\"dataframe\">\n  <thead>\n    <tr style=\"text-align: right;\">\n      <th></th>\n      <th>name</th>\n      <th>album</th>\n      <th>artist</th>\n      <th>release_date</th>\n      <th>length</th>\n      <th>popularity</th>\n      <th>danceability</th>\n      <th>acousticness</th>\n      <th>danceability</th>\n      <th>energy</th>\n      <th>instrumentalness</th>\n      <th>liveness</th>\n      <th>loudness</th>\n      <th>speechiness</th>\n      <th>tempo</th>\n      <th>time_signature</th>\n    </tr>\n  </thead>\n  <tbody>\n    <tr>\n      <th>0</th>\n      <td>New Rules</td>\n      <td>Dua Lipa (Complete Edition)</td>\n      <td>Dua Lipa</td>\n      <td>2015</td>\n      <td>209320</td>\n      <td>56</td>\n      <td>0.762</td>\n      <td>0.002610</td>\n      <td>0.762</td>\n      <td>0.700</td>\n      <td>0.000016</td>\n      <td>0.1530</td>\n      <td>-6.021</td>\n      <td>0.0694</td>\n      <td>116.073</td>\n      <td>4</td>\n    </tr>\n    <tr>\n      <th>1</th>\n      <td>Gives You Hell</td>\n      <td>When The World Comes Down</td>\n      <td>The All-American Rejects</td>\n      <td>2008-01-01</td>\n      <td>213106</td>\n      <td>73</td>\n      <td>0.718</td>\n      <td>0.015900</td>\n      <td>0.718</td>\n      <td>0.691</td>\n      <td>0.000000</td>\n      <td>0.0627</td>\n      <td>-6.440</td>\n      <td>0.0387</td>\n      <td>100.008</td>\n      <td>4</td>\n    </tr>\n    <tr>\n      <th>2</th>\n      <td>Chocolate</td>\n      <td>The 1975</td>\n      <td>The 1975</td>\n      <td>2013-01-01</td>\n      <td>224673</td>\n      <td>67</td>\n      <td>0.614</td>\n      <td>0.000532</td>\n      <td>0.614</td>\n      <td>0.938</td>\n      <td>0.000000</td>\n      <td>0.3680</td>\n      <td>-4.461</td>\n      <td>0.0611</td>\n      <td>100.058</td>\n      <td>4</td>\n    </tr>\n    <tr>\n      <th>3</th>\n      <td>Magic (feat. Rivers Cuomo)</td>\n      <td>B.o.B Presents: The Adventures of Bobby Ray</td>\n      <td>B.o.B</td>\n      <td>2010-04-27</td>\n      <td>196133</td>\n      <td>67</td>\n      <td>0.549</td>\n      <td>0.012700</td>\n      <td>0.549</td>\n      <td>0.932</td>\n      <td>0.000000</td>\n      <td>0.3470</td>\n      <td>-4.110</td>\n      <td>0.3430</td>\n      <td>82.439</td>\n      <td>4</td>\n    </tr>\n    <tr>\n      <th>4</th>\n      <td>Scholarships</td>\n      <td>What A Time To Be Alive</td>\n      <td>Drake</td>\n      <td>2015-09-20</td>\n      <td>209287</td>\n      <td>61</td>\n      <td>0.739</td>\n      <td>0.096600</td>\n      <td>0.739</td>\n      <td>0.416</td>\n      <td>0.000013</td>\n      <td>0.1000</td>\n      <td>-9.319</td>\n      <td>0.2850</td>\n      <td>109.168</td>\n      <td>4</td>\n    </tr>\n  </tbody>\n</table>\n</div>"
     },
     "metadata": {},
     "execution_count": 46
    }
   ],
   "source": [
    "df.head()"
   ]
  },
  {
   "cell_type": "code",
   "execution_count": 45,
   "metadata": {},
   "outputs": [
    {
     "output_type": "execute_result",
     "data": {
      "text/plain": "0     209320\n1     213106\n2     224673\n3     196133\n4     209287\n5     269666\n6     203506\n7     193653\n8     230600\n9     275546\n10    137760\n11    208106\n12    268480\n13    188960\n14    196093\n15    223120\n16    214626\n17    177280\n18    279666\n19    175120\n20    217946\n21    235813\n22    222973\n23    186080\n24    260986\n25    211022\n26    278973\n27    226706\n28    311106\n29    227426\n30    214066\n31    255466\n32    245826\n33    175493\n34    244000\n35    229093\n36    209426\n37    175200\n38    201173\n39    255000\n40    252026\n41    232800\n42    182826\n43    272346\n44    242000\n45    236266\n46    192573\n47    186634\n48    209040\n49    278506\nName: length, dtype: int64"
     },
     "metadata": {},
     "execution_count": 45
    }
   ],
   "source": [
    "df_length = df['length']\n",
    "for row in df_length:\n",
    "    row /= 60\n",
    "df_length"
   ]
  },
  {
   "cell_type": "code",
   "execution_count": 42,
   "metadata": {},
   "outputs": [
    {
     "output_type": "execute_result",
     "data": {
      "text/plain": "2.25"
     },
     "metadata": {},
     "execution_count": 42
    }
   ],
   "source": [
    "secs=135\n",
    "secs/60"
   ]
  },
  {
   "cell_type": "code",
   "execution_count": null,
   "metadata": {},
   "outputs": [],
   "source": []
  }
 ],
 "metadata": {
  "language_info": {
   "codemirror_mode": {
    "name": "ipython",
    "version": 3
   },
   "file_extension": ".py",
   "mimetype": "text/x-python",
   "name": "python",
   "nbconvert_exporter": "python",
   "pygments_lexer": "ipython3",
   "version": "3.8.2-final"
  },
  "orig_nbformat": 2,
  "kernelspec": {
   "name": "pythondatakernel",
   "display_name": "PythonDataKernel"
  }
 },
 "nbformat": 4,
 "nbformat_minor": 2
}